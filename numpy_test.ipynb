{
  "nbformat": 4,
  "nbformat_minor": 0,
  "metadata": {
    "colab": {
      "provenance": [],
      "collapsed_sections": [
        "6hnLqI9RfaM1",
        "WoJ5INt1lSMm",
        "uTxeJrAZvTO6",
        "I0kUJsWGH9kI",
        "UwvrzRmw59PS",
        "9KNCZ7GB8YyC",
        "6_2rv1az9G_M",
        "460H10Cgvm3B",
        "iScgK2T71sjN"
      ],
      "authorship_tag": "ABX9TyPYt04JTXlOyIsrnb7c9X3w",
      "include_colab_link": true
    },
    "kernelspec": {
      "name": "python3",
      "display_name": "Python 3"
    },
    "language_info": {
      "name": "python"
    }
  },
  "cells": [
    {
      "cell_type": "markdown",
      "metadata": {
        "id": "view-in-github",
        "colab_type": "text"
      },
      "source": [
        "<a href=\"https://colab.research.google.com/github/poepoe3060/Numpy/blob/main/numpy_test.ipynb\" target=\"_parent\"><img src=\"https://colab.research.google.com/assets/colab-badge.svg\" alt=\"Open In Colab\"/></a>"
      ]
    },
    {
      "cell_type": "markdown",
      "source": [
        "###Import"
      ],
      "metadata": {
        "id": "6hnLqI9RfaM1"
      }
    },
    {
      "cell_type": "code",
      "source": [
        "import numpy as np\n",
        "import sys\n"
      ],
      "metadata": {
        "id": "hixlzZFdl7Ku"
      },
      "execution_count": null,
      "outputs": []
    },
    {
      "cell_type": "markdown",
      "source": [
        "###Broadcasting and Vectorized operations"
      ],
      "metadata": {
        "id": "WoJ5INt1lSMm"
      }
    },
    {
      "cell_type": "code",
      "source": [
        "a = np.arange(4)\n",
        "a"
      ],
      "metadata": {
        "colab": {
          "base_uri": "https://localhost:8080/"
        },
        "id": "80u0-Xb3gG31",
        "outputId": "f57a5d9f-596e-4983-c7d9-094d0557ffe1"
      },
      "execution_count": null,
      "outputs": [
        {
          "output_type": "execute_result",
          "data": {
            "text/plain": [
              "array([0, 1, 2, 3])"
            ]
          },
          "metadata": {},
          "execution_count": 123
        }
      ]
    },
    {
      "cell_type": "code",
      "source": [
        "a + 10"
      ],
      "metadata": {
        "colab": {
          "base_uri": "https://localhost:8080/"
        },
        "id": "Ju6Z8rD2mBaQ",
        "outputId": "1c773f48-6c7e-45bd-ed6c-84d549394ddf"
      },
      "execution_count": null,
      "outputs": [
        {
          "output_type": "execute_result",
          "data": {
            "text/plain": [
              "array([10, 11, 12, 13])"
            ]
          },
          "metadata": {},
          "execution_count": 124
        }
      ]
    },
    {
      "cell_type": "code",
      "source": [
        "a * 10"
      ],
      "metadata": {
        "colab": {
          "base_uri": "https://localhost:8080/"
        },
        "id": "84l51WqMmv49",
        "outputId": "601761bc-2007-4f3e-da32-919008a6b54d"
      },
      "execution_count": null,
      "outputs": [
        {
          "output_type": "execute_result",
          "data": {
            "text/plain": [
              "array([ 0, 10, 20, 30])"
            ]
          },
          "metadata": {},
          "execution_count": 125
        }
      ]
    },
    {
      "cell_type": "code",
      "source": [
        "a += 100"
      ],
      "metadata": {
        "id": "anN9FX79m5bx"
      },
      "execution_count": null,
      "outputs": []
    },
    {
      "cell_type": "code",
      "source": [
        "a"
      ],
      "metadata": {
        "colab": {
          "base_uri": "https://localhost:8080/"
        },
        "id": "CqyOr2N_nB2q",
        "outputId": "cc646f36-045a-4b2b-eff4-435d7e7286f8"
      },
      "execution_count": null,
      "outputs": [
        {
          "output_type": "execute_result",
          "data": {
            "text/plain": [
              "array([100, 101, 102, 103])"
            ]
          },
          "metadata": {},
          "execution_count": 127
        }
      ]
    },
    {
      "cell_type": "code",
      "source": [
        "l = [0, 1, 2, 3]"
      ],
      "metadata": {
        "id": "kSPSWDEwnDbw"
      },
      "execution_count": null,
      "outputs": []
    },
    {
      "cell_type": "code",
      "source": [
        "[i * 10 for i in l]"
      ],
      "metadata": {
        "colab": {
          "base_uri": "https://localhost:8080/"
        },
        "id": "VtruXqNZnUMx",
        "outputId": "c460d9fb-3838-4573-cb30-8139171e53ef"
      },
      "execution_count": null,
      "outputs": [
        {
          "output_type": "execute_result",
          "data": {
            "text/plain": [
              "[0, 10, 20, 30]"
            ]
          },
          "metadata": {},
          "execution_count": 129
        }
      ]
    },
    {
      "cell_type": "code",
      "source": [
        "a = np.arange(4)"
      ],
      "metadata": {
        "id": "cyzhdrnGnaMj"
      },
      "execution_count": null,
      "outputs": []
    },
    {
      "cell_type": "code",
      "source": [
        "a"
      ],
      "metadata": {
        "colab": {
          "base_uri": "https://localhost:8080/"
        },
        "id": "u6PnMMtXnku9",
        "outputId": "10eab7ef-9c35-4b8e-b947-8bb77eefcdb4"
      },
      "execution_count": null,
      "outputs": [
        {
          "output_type": "execute_result",
          "data": {
            "text/plain": [
              "array([0, 1, 2, 3])"
            ]
          },
          "metadata": {},
          "execution_count": 131
        }
      ]
    },
    {
      "cell_type": "code",
      "source": [
        "b = np.array([10, 10, 10, 10])"
      ],
      "metadata": {
        "id": "TUn8MX6XnlAr"
      },
      "execution_count": null,
      "outputs": []
    },
    {
      "cell_type": "code",
      "source": [
        "a + b"
      ],
      "metadata": {
        "colab": {
          "base_uri": "https://localhost:8080/"
        },
        "id": "11f1oVuGnrzw",
        "outputId": "73fb5da7-3e30-4788-bf24-4a768e4d84c5"
      },
      "execution_count": null,
      "outputs": [
        {
          "output_type": "execute_result",
          "data": {
            "text/plain": [
              "array([10, 11, 12, 13])"
            ]
          },
          "metadata": {},
          "execution_count": 133
        }
      ]
    },
    {
      "cell_type": "code",
      "source": [
        "a * b"
      ],
      "metadata": {
        "colab": {
          "base_uri": "https://localhost:8080/"
        },
        "id": "Hn09V3gRn3Se",
        "outputId": "f929babd-9ed2-4d27-8b55-228baca3f8f9"
      },
      "execution_count": null,
      "outputs": [
        {
          "output_type": "execute_result",
          "data": {
            "text/plain": [
              "array([ 0, 10, 20, 30])"
            ]
          },
          "metadata": {},
          "execution_count": 134
        }
      ]
    },
    {
      "cell_type": "code",
      "source": [
        "a = np.arange(5)"
      ],
      "metadata": {
        "id": "z6TGMnAEoLYe"
      },
      "execution_count": null,
      "outputs": []
    },
    {
      "cell_type": "code",
      "source": [
        "a + 20"
      ],
      "metadata": {
        "colab": {
          "base_uri": "https://localhost:8080/"
        },
        "id": "yAcjk8KHn8S3",
        "outputId": "454d0e33-fb56-4e3c-e0cb-b942076ac32f"
      },
      "execution_count": null,
      "outputs": [
        {
          "output_type": "execute_result",
          "data": {
            "text/plain": [
              "array([20, 21, 22, 23, 24])"
            ]
          },
          "metadata": {},
          "execution_count": 136
        }
      ]
    },
    {
      "cell_type": "code",
      "source": [
        "a = np.arange(5)"
      ],
      "metadata": {
        "id": "EFum87B7oUVo"
      },
      "execution_count": null,
      "outputs": []
    },
    {
      "cell_type": "code",
      "source": [
        "print( a <=3 )"
      ],
      "metadata": {
        "colab": {
          "base_uri": "https://localhost:8080/"
        },
        "id": "m4F3nsNpprtG",
        "outputId": "a2b1e487-28a9-4a3a-872e-a57451214f0a"
      },
      "execution_count": null,
      "outputs": [
        {
          "output_type": "stream",
          "name": "stdout",
          "text": [
            "[ True  True  True  True False]\n"
          ]
        }
      ]
    },
    {
      "cell_type": "markdown",
      "source": [
        "###Numpy Arrays"
      ],
      "metadata": {
        "id": "uTxeJrAZvTO6"
      }
    },
    {
      "cell_type": "code",
      "source": [
        "np.array([1, 2, 3, 4, 5])"
      ],
      "metadata": {
        "id": "MviUxpJ1rGCQ",
        "colab": {
          "base_uri": "https://localhost:8080/"
        },
        "outputId": "c75b90f6-327e-44b0-89c3-362263889b96"
      },
      "execution_count": null,
      "outputs": [
        {
          "output_type": "execute_result",
          "data": {
            "text/plain": [
              "array([1, 2, 3, 4, 5])"
            ]
          },
          "metadata": {},
          "execution_count": 139
        }
      ]
    },
    {
      "cell_type": "code",
      "source": [
        "a = np.array([1, 2, 3, 4, 5])"
      ],
      "metadata": {
        "id": "djckLBKHvMqn"
      },
      "execution_count": null,
      "outputs": []
    },
    {
      "cell_type": "code",
      "source": [
        "b = np.array([0, 0.5, 1, 1.5, 2])"
      ],
      "metadata": {
        "id": "cw5lwDhbvnuY"
      },
      "execution_count": null,
      "outputs": []
    },
    {
      "cell_type": "code",
      "source": [
        "a[0], a[1]"
      ],
      "metadata": {
        "colab": {
          "base_uri": "https://localhost:8080/"
        },
        "id": "yyPB43NGvu6D",
        "outputId": "ea7cb840-7dea-4de0-dfd4-7505030c6caf"
      },
      "execution_count": null,
      "outputs": [
        {
          "output_type": "execute_result",
          "data": {
            "text/plain": [
              "(np.int64(1), np.int64(2))"
            ]
          },
          "metadata": {},
          "execution_count": 142
        }
      ]
    },
    {
      "cell_type": "code",
      "source": [
        "a[0:]"
      ],
      "metadata": {
        "colab": {
          "base_uri": "https://localhost:8080/"
        },
        "id": "gxjWMp55vyeU",
        "outputId": "205eeb1d-623f-4829-b8c9-446322fe11f9"
      },
      "execution_count": null,
      "outputs": [
        {
          "output_type": "execute_result",
          "data": {
            "text/plain": [
              "array([1, 2, 3, 4, 5])"
            ]
          },
          "metadata": {},
          "execution_count": 143
        }
      ]
    },
    {
      "cell_type": "code",
      "source": [
        "a[1:3]"
      ],
      "metadata": {
        "colab": {
          "base_uri": "https://localhost:8080/"
        },
        "id": "4BfeQbyEv3Uu",
        "outputId": "3aa5b2bd-3010-4b11-b377-d9ea92ecbac5"
      },
      "execution_count": null,
      "outputs": [
        {
          "output_type": "execute_result",
          "data": {
            "text/plain": [
              "array([2, 3])"
            ]
          },
          "metadata": {},
          "execution_count": 144
        }
      ]
    },
    {
      "cell_type": "code",
      "source": [
        "a[1:5]"
      ],
      "metadata": {
        "colab": {
          "base_uri": "https://localhost:8080/"
        },
        "id": "IERKkv4pv93X",
        "outputId": "c57ed558-d140-4eb5-82fb-029132956531"
      },
      "execution_count": null,
      "outputs": [
        {
          "output_type": "execute_result",
          "data": {
            "text/plain": [
              "array([2, 3, 4, 5])"
            ]
          },
          "metadata": {},
          "execution_count": 145
        }
      ]
    },
    {
      "cell_type": "code",
      "source": [
        "a[1:-1]"
      ],
      "metadata": {
        "colab": {
          "base_uri": "https://localhost:8080/"
        },
        "id": "k8s5CEXgwBTY",
        "outputId": "7d16200f-569c-411d-a71c-75ddcab9bd39"
      },
      "execution_count": null,
      "outputs": [
        {
          "output_type": "execute_result",
          "data": {
            "text/plain": [
              "array([2, 3, 4])"
            ]
          },
          "metadata": {},
          "execution_count": 146
        }
      ]
    },
    {
      "cell_type": "code",
      "source": [
        "b.dtype"
      ],
      "metadata": {
        "colab": {
          "base_uri": "https://localhost:8080/"
        },
        "id": "ogN8uhJ2wFOQ",
        "outputId": "3bc9c720-a467-4a40-bbed-db8ff4da581d"
      },
      "execution_count": null,
      "outputs": [
        {
          "output_type": "execute_result",
          "data": {
            "text/plain": [
              "dtype('float64')"
            ]
          },
          "metadata": {},
          "execution_count": 147
        }
      ]
    },
    {
      "cell_type": "code",
      "source": [
        "c = np.array(['a', 'b' , 'c'])"
      ],
      "metadata": {
        "id": "aCcIuE7zwN61"
      },
      "execution_count": null,
      "outputs": []
    },
    {
      "cell_type": "code",
      "source": [
        "c.dtype"
      ],
      "metadata": {
        "colab": {
          "base_uri": "https://localhost:8080/"
        },
        "id": "XysVYHf0wYp8",
        "outputId": "24a37209-5793-4f6e-a3a5-d4176bc5754d"
      },
      "execution_count": null,
      "outputs": [
        {
          "output_type": "execute_result",
          "data": {
            "text/plain": [
              "dtype('<U1')"
            ]
          },
          "metadata": {},
          "execution_count": 149
        }
      ]
    },
    {
      "cell_type": "code",
      "source": [
        "d = np.array([{'a': 1}, sys])"
      ],
      "metadata": {
        "id": "HHn6WKNYwb8T"
      },
      "execution_count": null,
      "outputs": []
    },
    {
      "cell_type": "code",
      "source": [
        "d.dtype"
      ],
      "metadata": {
        "colab": {
          "base_uri": "https://localhost:8080/"
        },
        "id": "Jl-FDRBDwuGe",
        "outputId": "eeafa2f4-0463-4399-9856-56913981eb2d"
      },
      "execution_count": null,
      "outputs": [
        {
          "output_type": "execute_result",
          "data": {
            "text/plain": [
              "dtype('O')"
            ]
          },
          "metadata": {},
          "execution_count": 151
        }
      ]
    },
    {
      "cell_type": "code",
      "source": [
        "p = np.array([1,3,5], dtype='int32')\n",
        "q = np.array([1,2,3])\n",
        "p * q"
      ],
      "metadata": {
        "id": "0CsjTc8DwvxX",
        "colab": {
          "base_uri": "https://localhost:8080/"
        },
        "outputId": "fe88ee0e-5b54-4f99-9903-e069aabb6e21"
      },
      "execution_count": null,
      "outputs": [
        {
          "output_type": "execute_result",
          "data": {
            "text/plain": [
              "array([ 1,  6, 15])"
            ]
          },
          "metadata": {},
          "execution_count": 152
        }
      ]
    },
    {
      "cell_type": "code",
      "source": [
        "h = np.array([[1.0, 2.0, 3.0], [3.0, 4.0, 5.0]])"
      ],
      "metadata": {
        "id": "PV2HZTHZTSTk"
      },
      "execution_count": null,
      "outputs": []
    },
    {
      "cell_type": "code",
      "source": [
        "print(h)"
      ],
      "metadata": {
        "colab": {
          "base_uri": "https://localhost:8080/"
        },
        "id": "LQI5CoOeUP9a",
        "outputId": "87e7daee-9f84-438a-e692-ed090f7c1bf7"
      },
      "execution_count": null,
      "outputs": [
        {
          "output_type": "stream",
          "name": "stdout",
          "text": [
            "[[1. 2. 3.]\n",
            " [3. 4. 5.]]\n"
          ]
        }
      ]
    },
    {
      "cell_type": "code",
      "source": [
        "# Get Dimension\n",
        "p.ndim"
      ],
      "metadata": {
        "colab": {
          "base_uri": "https://localhost:8080/"
        },
        "id": "AXfxcpEpUSsw",
        "outputId": "473e4fc6-45c4-4c32-8279-1d50848b0085"
      },
      "execution_count": null,
      "outputs": [
        {
          "output_type": "execute_result",
          "data": {
            "text/plain": [
              "1"
            ]
          },
          "metadata": {},
          "execution_count": 155
        }
      ]
    },
    {
      "cell_type": "code",
      "source": [
        "p.shape"
      ],
      "metadata": {
        "colab": {
          "base_uri": "https://localhost:8080/"
        },
        "id": "zSwtAmvVUu0b",
        "outputId": "c7f32591-b12b-4feb-e718-c6c5ce4525f5"
      },
      "execution_count": null,
      "outputs": [
        {
          "output_type": "execute_result",
          "data": {
            "text/plain": [
              "(3,)"
            ]
          },
          "metadata": {},
          "execution_count": 156
        }
      ]
    },
    {
      "cell_type": "code",
      "source": [
        "# Get Shaoe\n",
        "h.shape"
      ],
      "metadata": {
        "colab": {
          "base_uri": "https://localhost:8080/"
        },
        "id": "RzDBsIW7Uysm",
        "outputId": "24b2219f-ec5d-4992-b82a-880ab150ed09"
      },
      "execution_count": null,
      "outputs": [
        {
          "output_type": "execute_result",
          "data": {
            "text/plain": [
              "(2, 3)"
            ]
          },
          "metadata": {},
          "execution_count": 157
        }
      ]
    },
    {
      "cell_type": "code",
      "source": [
        "# Get Type\n",
        "h.dtype"
      ],
      "metadata": {
        "colab": {
          "base_uri": "https://localhost:8080/"
        },
        "id": "fIvKGx8IU4rG",
        "outputId": "e748fda4-90ee-47f6-816a-cb5ef3f3539f"
      },
      "execution_count": null,
      "outputs": [
        {
          "output_type": "execute_result",
          "data": {
            "text/plain": [
              "dtype('float64')"
            ]
          },
          "metadata": {},
          "execution_count": 158
        }
      ]
    },
    {
      "cell_type": "code",
      "source": [
        "# Get Size\n",
        "p.itemsize"
      ],
      "metadata": {
        "colab": {
          "base_uri": "https://localhost:8080/"
        },
        "id": "pqMC3-UtU802",
        "outputId": "bf7fb0a3-2dd6-4455-f8cd-490bd94aa9fe"
      },
      "execution_count": null,
      "outputs": [
        {
          "output_type": "execute_result",
          "data": {
            "text/plain": [
              "4"
            ]
          },
          "metadata": {},
          "execution_count": 159
        }
      ]
    },
    {
      "cell_type": "code",
      "source": [
        "# Get total size\n",
        "p.size * p.itemsize"
      ],
      "metadata": {
        "colab": {
          "base_uri": "https://localhost:8080/"
        },
        "id": "I_aJDXoPVZx-",
        "outputId": "06a976b9-7a0c-42e7-fc9c-7444b6eb6e62"
      },
      "execution_count": null,
      "outputs": [
        {
          "output_type": "execute_result",
          "data": {
            "text/plain": [
              "12"
            ]
          },
          "metadata": {},
          "execution_count": 160
        }
      ]
    },
    {
      "cell_type": "code",
      "source": [
        "a = np.array([[1, 2, 3, 4, 5], [6,7,8,9,10]])"
      ],
      "metadata": {
        "id": "tJ-KIHDoVlM-"
      },
      "execution_count": null,
      "outputs": []
    },
    {
      "cell_type": "code",
      "source": [
        "print(a)"
      ],
      "metadata": {
        "colab": {
          "base_uri": "https://localhost:8080/"
        },
        "id": "xQQt8RT5WPcV",
        "outputId": "0e05c73a-29fc-44d7-fe5f-1b435422beab"
      },
      "execution_count": null,
      "outputs": [
        {
          "output_type": "stream",
          "name": "stdout",
          "text": [
            "[[ 1  2  3  4  5]\n",
            " [ 6  7  8  9 10]]\n"
          ]
        }
      ]
    },
    {
      "cell_type": "code",
      "source": [
        "a[:, 3] = 20\n",
        "print(a)"
      ],
      "metadata": {
        "colab": {
          "base_uri": "https://localhost:8080/"
        },
        "id": "xnZsZD7HWSKH",
        "outputId": "f738f556-6810-4671-d51c-c8956999ab99"
      },
      "execution_count": null,
      "outputs": [
        {
          "output_type": "stream",
          "name": "stdout",
          "text": [
            "[[ 1  2  3 20  5]\n",
            " [ 6  7  8 20 10]]\n"
          ]
        }
      ]
    },
    {
      "cell_type": "code",
      "source": [
        "a[:, 2] = 20\n",
        "print(a)"
      ],
      "metadata": {
        "colab": {
          "base_uri": "https://localhost:8080/"
        },
        "id": "sCeBO2hBW4Bn",
        "outputId": "ff8f0e8d-3e34-4460-aa76-4e46952d3322"
      },
      "execution_count": null,
      "outputs": [
        {
          "output_type": "stream",
          "name": "stdout",
          "text": [
            "[[ 1  2 20 20  5]\n",
            " [ 6  7 20 20 10]]\n"
          ]
        }
      ]
    },
    {
      "cell_type": "code",
      "source": [
        "a[1, 2] = 20\n",
        "print(a)"
      ],
      "metadata": {
        "colab": {
          "base_uri": "https://localhost:8080/"
        },
        "id": "RC6dRRcrWbJ8",
        "outputId": "f2b8e2f5-3cd8-47dc-b579-1fa2935017c8"
      },
      "execution_count": null,
      "outputs": [
        {
          "output_type": "stream",
          "name": "stdout",
          "text": [
            "[[ 1  2 20 20  5]\n",
            " [ 6  7 20 20 10]]\n"
          ]
        }
      ]
    },
    {
      "cell_type": "code",
      "source": [
        "a = np.array([[1, 2, 3, 4, 5], [6, 7, 8, 9, 10]])\n",
        "print(np.full_like(a, 100))"
      ],
      "metadata": {
        "colab": {
          "base_uri": "https://localhost:8080/"
        },
        "id": "Q2l9PQEwXFK7",
        "outputId": "b41eefbf-2cfe-47c8-93f0-05d18ddfb5af"
      },
      "execution_count": null,
      "outputs": [
        {
          "output_type": "stream",
          "name": "stdout",
          "text": [
            "[[100 100 100 100 100]\n",
            " [100 100 100 100 100]]\n"
          ]
        }
      ]
    },
    {
      "cell_type": "code",
      "source": [
        "output = np.zeros((7, 7))\n",
        "z = np.ones((5, 5))\n",
        "z[2, 2] = 5\n",
        "output[1:-1, 1:-1] = z"
      ],
      "metadata": {
        "id": "eFUF5pUxYvar"
      },
      "execution_count": null,
      "outputs": []
    },
    {
      "cell_type": "code",
      "source": [
        "output"
      ],
      "metadata": {
        "colab": {
          "base_uri": "https://localhost:8080/"
        },
        "id": "fXbxiyRA8ZRE",
        "outputId": "a4a91d40-2511-4090-de18-2fa537f07d7c"
      },
      "execution_count": null,
      "outputs": [
        {
          "output_type": "execute_result",
          "data": {
            "text/plain": [
              "array([[0., 0., 0., 0., 0., 0., 0.],\n",
              "       [0., 1., 1., 1., 1., 1., 0.],\n",
              "       [0., 1., 1., 1., 1., 1., 0.],\n",
              "       [0., 1., 1., 5., 1., 1., 0.],\n",
              "       [0., 1., 1., 1., 1., 1., 0.],\n",
              "       [0., 1., 1., 1., 1., 1., 0.],\n",
              "       [0., 0., 0., 0., 0., 0., 0.]])"
            ]
          },
          "metadata": {},
          "execution_count": 168
        }
      ]
    },
    {
      "cell_type": "code",
      "source": [
        "a = np.ones((5, 5))\n",
        "print(a)"
      ],
      "metadata": {
        "colab": {
          "base_uri": "https://localhost:8080/"
        },
        "id": "36V_bybx9F4W",
        "outputId": "6162d2ed-5045-45d4-9a16-9711cc872f44"
      },
      "execution_count": null,
      "outputs": [
        {
          "output_type": "stream",
          "name": "stdout",
          "text": [
            "[[1. 1. 1. 1. 1.]\n",
            " [1. 1. 1. 1. 1.]\n",
            " [1. 1. 1. 1. 1.]\n",
            " [1. 1. 1. 1. 1.]\n",
            " [1. 1. 1. 1. 1.]]\n"
          ]
        }
      ]
    },
    {
      "cell_type": "code",
      "source": [
        "z = np.zeros((3,3))\n",
        "z"
      ],
      "metadata": {
        "colab": {
          "base_uri": "https://localhost:8080/"
        },
        "id": "suXiseKBEtL_",
        "outputId": "dc57bb16-3d45-4529-9c9e-30bb362c2205"
      },
      "execution_count": null,
      "outputs": [
        {
          "output_type": "execute_result",
          "data": {
            "text/plain": [
              "array([[0., 0., 0.],\n",
              "       [0., 0., 0.],\n",
              "       [0., 0., 0.]])"
            ]
          },
          "metadata": {},
          "execution_count": 170
        }
      ]
    },
    {
      "cell_type": "code",
      "source": [
        "z[1,1] = 2\n",
        "z"
      ],
      "metadata": {
        "colab": {
          "base_uri": "https://localhost:8080/"
        },
        "id": "mybEnGMEEzyZ",
        "outputId": "558ec9e9-0275-4ae1-9bba-bef57b1caea9"
      },
      "execution_count": null,
      "outputs": [
        {
          "output_type": "execute_result",
          "data": {
            "text/plain": [
              "array([[0., 0., 0.],\n",
              "       [0., 2., 0.],\n",
              "       [0., 0., 0.]])"
            ]
          },
          "metadata": {},
          "execution_count": 171
        }
      ]
    },
    {
      "cell_type": "code",
      "source": [
        "a[3,3] = 7\n",
        "a"
      ],
      "metadata": {
        "colab": {
          "base_uri": "https://localhost:8080/"
        },
        "id": "xQtB3-icFF5l",
        "outputId": "ef95b9f1-9edb-4925-e430-732aba00a0cf"
      },
      "execution_count": null,
      "outputs": [
        {
          "output_type": "execute_result",
          "data": {
            "text/plain": [
              "array([[1., 1., 1., 1., 1.],\n",
              "       [1., 1., 1., 1., 1.],\n",
              "       [1., 1., 1., 1., 1.],\n",
              "       [1., 1., 1., 7., 1.],\n",
              "       [1., 1., 1., 1., 1.]])"
            ]
          },
          "metadata": {},
          "execution_count": 172
        }
      ]
    },
    {
      "cell_type": "code",
      "source": [
        "a[:3, :2]"
      ],
      "metadata": {
        "colab": {
          "base_uri": "https://localhost:8080/"
        },
        "id": "2QsLxnjGFc58",
        "outputId": "a3ab981a-340d-4ad2-87d9-86fddd0ddc6c"
      },
      "execution_count": null,
      "outputs": [
        {
          "output_type": "execute_result",
          "data": {
            "text/plain": [
              "array([[1., 1.],\n",
              "       [1., 1.],\n",
              "       [1., 1.]])"
            ]
          },
          "metadata": {},
          "execution_count": 173
        }
      ]
    },
    {
      "cell_type": "markdown",
      "source": [
        "### Copying arrays"
      ],
      "metadata": {
        "id": "I0kUJsWGH9kI"
      }
    },
    {
      "cell_type": "code",
      "source": [
        "c = np.array([1, 2, 3])\n",
        "d = c.copy()\n",
        "d[0] = 100\n",
        "print(d)"
      ],
      "metadata": {
        "colab": {
          "base_uri": "https://localhost:8080/"
        },
        "id": "FdXTNNqXH4Zj",
        "outputId": "d622cba9-5398-4dda-8381-fe0ef7e06f90"
      },
      "execution_count": null,
      "outputs": [
        {
          "output_type": "stream",
          "name": "stdout",
          "text": [
            "[100   2   3]\n"
          ]
        }
      ]
    },
    {
      "cell_type": "code",
      "source": [
        "a = np.array([1, 2, 3, 4, 5])\n",
        "b = a\n",
        "b[2] =20\n",
        "b"
      ],
      "metadata": {
        "colab": {
          "base_uri": "https://localhost:8080/"
        },
        "id": "4mxeasjSIECq",
        "outputId": "79ab19bd-8ca8-4c70-f8d0-19e8f1597af7"
      },
      "execution_count": null,
      "outputs": [
        {
          "output_type": "execute_result",
          "data": {
            "text/plain": [
              "array([ 1,  2, 20,  4,  5])"
            ]
          },
          "metadata": {},
          "execution_count": 175
        }
      ]
    },
    {
      "cell_type": "markdown",
      "source": [
        "### Mathematics"
      ],
      "metadata": {
        "id": "UwvrzRmw59PS"
      }
    },
    {
      "cell_type": "code",
      "source": [
        "a = np.array([1, 2, 3, 4, 5])\n",
        "\n",
        "print(a)"
      ],
      "metadata": {
        "id": "gyUt-KpWI16V",
        "colab": {
          "base_uri": "https://localhost:8080/"
        },
        "outputId": "a675c324-4682-4484-ede0-4fe051d95c54"
      },
      "execution_count": null,
      "outputs": [
        {
          "output_type": "stream",
          "name": "stdout",
          "text": [
            "[1 2 3 4 5]\n"
          ]
        }
      ]
    },
    {
      "cell_type": "code",
      "source": [
        "a + 2"
      ],
      "metadata": {
        "colab": {
          "base_uri": "https://localhost:8080/"
        },
        "id": "uhXqpDm96EGX",
        "outputId": "4ed93601-0af2-4fdf-836e-151faf24e843"
      },
      "execution_count": null,
      "outputs": [
        {
          "output_type": "execute_result",
          "data": {
            "text/plain": [
              "array([3, 4, 5, 6, 7])"
            ]
          },
          "metadata": {},
          "execution_count": 177
        }
      ]
    },
    {
      "cell_type": "code",
      "source": [
        "a - 3"
      ],
      "metadata": {
        "colab": {
          "base_uri": "https://localhost:8080/"
        },
        "id": "T6pScb956Lul",
        "outputId": "bf5dac9a-ff48-4d60-c181-7b7fd183ead7"
      },
      "execution_count": null,
      "outputs": [
        {
          "output_type": "execute_result",
          "data": {
            "text/plain": [
              "array([-2, -1,  0,  1,  2])"
            ]
          },
          "metadata": {},
          "execution_count": 178
        }
      ]
    },
    {
      "cell_type": "code",
      "source": [
        "a * 5"
      ],
      "metadata": {
        "colab": {
          "base_uri": "https://localhost:8080/"
        },
        "id": "8CRONXey6cmy",
        "outputId": "8b2b4ef0-c586-4d4e-8211-0e27c0d1519d"
      },
      "execution_count": null,
      "outputs": [
        {
          "output_type": "execute_result",
          "data": {
            "text/plain": [
              "array([ 5, 10, 15, 20, 25])"
            ]
          },
          "metadata": {},
          "execution_count": 179
        }
      ]
    },
    {
      "cell_type": "code",
      "source": [
        "a / 4"
      ],
      "metadata": {
        "colab": {
          "base_uri": "https://localhost:8080/"
        },
        "id": "RjDFl1296du7",
        "outputId": "8de88553-cc74-4deb-cde9-fe22b3d06331"
      },
      "execution_count": null,
      "outputs": [
        {
          "output_type": "execute_result",
          "data": {
            "text/plain": [
              "array([0.25, 0.5 , 0.75, 1.  , 1.25])"
            ]
          },
          "metadata": {},
          "execution_count": 180
        }
      ]
    },
    {
      "cell_type": "code",
      "source": [
        "b = np.array([1, 0, 1, 0, 1])\n",
        "a + b"
      ],
      "metadata": {
        "colab": {
          "base_uri": "https://localhost:8080/"
        },
        "id": "udSjwzBI6hA1",
        "outputId": "5fa74751-00e5-418f-d15a-b3657bd85f1c"
      },
      "execution_count": null,
      "outputs": [
        {
          "output_type": "execute_result",
          "data": {
            "text/plain": [
              "array([2, 2, 4, 4, 6])"
            ]
          },
          "metadata": {},
          "execution_count": 181
        }
      ]
    },
    {
      "cell_type": "code",
      "source": [
        "a ** 2"
      ],
      "metadata": {
        "colab": {
          "base_uri": "https://localhost:8080/"
        },
        "id": "tdcgALuL6uqs",
        "outputId": "c4863b4f-1125-4957-8e96-1b03304a49eb"
      },
      "execution_count": null,
      "outputs": [
        {
          "output_type": "execute_result",
          "data": {
            "text/plain": [
              "array([ 1,  4,  9, 16, 25])"
            ]
          },
          "metadata": {},
          "execution_count": 182
        }
      ]
    },
    {
      "cell_type": "code",
      "source": [
        "# Take the sin\n",
        "np.sin(a)"
      ],
      "metadata": {
        "colab": {
          "base_uri": "https://localhost:8080/"
        },
        "id": "p6kl1-hP63YQ",
        "outputId": "752a000e-066d-4b39-a535-cdb16a9b1394"
      },
      "execution_count": null,
      "outputs": [
        {
          "output_type": "execute_result",
          "data": {
            "text/plain": [
              "array([ 0.84147098,  0.90929743,  0.14112001, -0.7568025 , -0.95892427])"
            ]
          },
          "metadata": {},
          "execution_count": 183
        }
      ]
    },
    {
      "cell_type": "code",
      "source": [
        "# Take the cos\n",
        "np.cos(a)"
      ],
      "metadata": {
        "colab": {
          "base_uri": "https://localhost:8080/"
        },
        "id": "DIdXGJg_6_KM",
        "outputId": "cebef0e2-59c4-4374-fb73-91d7cd0dd97f"
      },
      "execution_count": null,
      "outputs": [
        {
          "output_type": "execute_result",
          "data": {
            "text/plain": [
              "array([ 0.54030231, -0.41614684, -0.9899925 , -0.65364362,  0.28366219])"
            ]
          },
          "metadata": {},
          "execution_count": 184
        }
      ]
    },
    {
      "cell_type": "markdown",
      "source": [
        "### Linear Algebra"
      ],
      "metadata": {
        "id": "9KNCZ7GB8YyC"
      }
    },
    {
      "cell_type": "code",
      "source": [
        " x = np.ones((2, 3))\n",
        " print(x)\n",
        "\n",
        " y = np.full((3, 2), 2)\n",
        " print(y)\n",
        "\n",
        " np.matmul(x, y)"
      ],
      "metadata": {
        "colab": {
          "base_uri": "https://localhost:8080/"
        },
        "id": "RqANmSDY7FiP",
        "outputId": "44f0004e-5b7d-41fe-bc8f-386c7d884390"
      },
      "execution_count": null,
      "outputs": [
        {
          "output_type": "stream",
          "name": "stdout",
          "text": [
            "[[1. 1. 1.]\n",
            " [1. 1. 1.]]\n",
            "[[2 2]\n",
            " [2 2]\n",
            " [2 2]]\n"
          ]
        },
        {
          "output_type": "execute_result",
          "data": {
            "text/plain": [
              "array([[6., 6.],\n",
              "       [6., 6.]])"
            ]
          },
          "metadata": {},
          "execution_count": 185
        }
      ]
    },
    {
      "cell_type": "code",
      "source": [
        "# Find a determinant\n",
        "c = np.identity(3)\n",
        "np.linalg.det(c)"
      ],
      "metadata": {
        "colab": {
          "base_uri": "https://localhost:8080/"
        },
        "id": "12zRACha7b18",
        "outputId": "5b9a8e49-6852-4f42-d98e-6dcbe2018485"
      },
      "execution_count": null,
      "outputs": [
        {
          "output_type": "execute_result",
          "data": {
            "text/plain": [
              "np.float64(1.0)"
            ]
          },
          "metadata": {},
          "execution_count": 186
        }
      ]
    },
    {
      "cell_type": "code",
      "source": [],
      "metadata": {
        "id": "2XBcH5U78gut"
      },
      "execution_count": null,
      "outputs": []
    },
    {
      "cell_type": "markdown",
      "source": [
        "### Statistics"
      ],
      "metadata": {
        "id": "6_2rv1az9G_M"
      }
    },
    {
      "cell_type": "code",
      "source": [
        "stats = np.array([[1, 2, 3], [4, 5, 6]])\n",
        "stats"
      ],
      "metadata": {
        "colab": {
          "base_uri": "https://localhost:8080/"
        },
        "id": "Q3GCHCgr9JAU",
        "outputId": "eed475a0-6162-439b-9f11-60e49551bae9"
      },
      "execution_count": null,
      "outputs": [
        {
          "output_type": "execute_result",
          "data": {
            "text/plain": [
              "array([[1, 2, 3],\n",
              "       [4, 5, 6]])"
            ]
          },
          "metadata": {},
          "execution_count": 187
        }
      ]
    },
    {
      "cell_type": "code",
      "source": [
        "np.min(stats)\n"
      ],
      "metadata": {
        "colab": {
          "base_uri": "https://localhost:8080/"
        },
        "id": "0qCejeHC9W07",
        "outputId": "a36c2c30-7eae-4e8c-93d3-4897b21e034d"
      },
      "execution_count": null,
      "outputs": [
        {
          "output_type": "execute_result",
          "data": {
            "text/plain": [
              "np.int64(1)"
            ]
          },
          "metadata": {},
          "execution_count": 188
        }
      ]
    },
    {
      "cell_type": "code",
      "source": [
        "np.min(stats, axis=0)"
      ],
      "metadata": {
        "colab": {
          "base_uri": "https://localhost:8080/"
        },
        "id": "0PyRAM-p957V",
        "outputId": "3745c8d2-ceb3-4701-bdc9-6e824a7b628a"
      },
      "execution_count": null,
      "outputs": [
        {
          "output_type": "execute_result",
          "data": {
            "text/plain": [
              "array([1, 2, 3])"
            ]
          },
          "metadata": {},
          "execution_count": 189
        }
      ]
    },
    {
      "cell_type": "code",
      "source": [
        "np.max(stats)"
      ],
      "metadata": {
        "colab": {
          "base_uri": "https://localhost:8080/"
        },
        "id": "pew70Tb79kCo",
        "outputId": "e562102a-afdd-40bf-e9ec-325e15dca344"
      },
      "execution_count": null,
      "outputs": [
        {
          "output_type": "execute_result",
          "data": {
            "text/plain": [
              "np.int64(6)"
            ]
          },
          "metadata": {},
          "execution_count": 190
        }
      ]
    },
    {
      "cell_type": "code",
      "source": [
        "np.max(stats, 1)"
      ],
      "metadata": {
        "colab": {
          "base_uri": "https://localhost:8080/"
        },
        "id": "9FeFVLPO9nJZ",
        "outputId": "2572cdb1-71e3-4cab-cd8a-7ec5659ee936"
      },
      "execution_count": null,
      "outputs": [
        {
          "output_type": "execute_result",
          "data": {
            "text/plain": [
              "array([3, 6])"
            ]
          },
          "metadata": {},
          "execution_count": 191
        }
      ]
    },
    {
      "cell_type": "code",
      "source": [
        "np.sum(stats)"
      ],
      "metadata": {
        "colab": {
          "base_uri": "https://localhost:8080/"
        },
        "id": "yKKRR3oy-Ch4",
        "outputId": "d7b52956-f4d1-4449-a5fe-355722126909"
      },
      "execution_count": null,
      "outputs": [
        {
          "output_type": "execute_result",
          "data": {
            "text/plain": [
              "np.int64(21)"
            ]
          },
          "metadata": {},
          "execution_count": 192
        }
      ]
    },
    {
      "cell_type": "code",
      "source": [
        "np.sum(stats, axis=0)"
      ],
      "metadata": {
        "colab": {
          "base_uri": "https://localhost:8080/"
        },
        "id": "6bb01yAH-Fp_",
        "outputId": "8f00cfff-c1e5-427a-d0a4-bc6de59ba5d6"
      },
      "execution_count": null,
      "outputs": [
        {
          "output_type": "execute_result",
          "data": {
            "text/plain": [
              "array([5, 7, 9])"
            ]
          },
          "metadata": {},
          "execution_count": 193
        }
      ]
    },
    {
      "cell_type": "code",
      "source": [
        "v = np.array(([1, 2, 3, 4, 5], [6, 7, 8, 9, 10]))\n",
        "y = np.max(v, axis=1).sum()\n",
        "y"
      ],
      "metadata": {
        "colab": {
          "base_uri": "https://localhost:8080/"
        },
        "id": "lnaXKqX9-Kqc",
        "outputId": "6a1db4fd-cf68-4554-c541-b9b6d0ac278c"
      },
      "execution_count": null,
      "outputs": [
        {
          "output_type": "execute_result",
          "data": {
            "text/plain": [
              "np.int64(15)"
            ]
          },
          "metadata": {},
          "execution_count": 194
        }
      ]
    },
    {
      "cell_type": "markdown",
      "source": [
        "### Reorganizing Arrays"
      ],
      "metadata": {
        "id": "460H10Cgvm3B"
      }
    },
    {
      "cell_type": "code",
      "source": [
        "before = np.array([[1 ,2 ,3 ,4], [5, 6, 7, 8]])\n",
        "print(before)\n",
        "\n",
        "after = before.reshape((4 ,2))\n",
        "print(after)"
      ],
      "metadata": {
        "colab": {
          "base_uri": "https://localhost:8080/"
        },
        "id": "OKq7IajlvsTh",
        "outputId": "ab5db332-0b7c-4f04-fcf3-37a5ee9765ff"
      },
      "execution_count": null,
      "outputs": [
        {
          "output_type": "stream",
          "name": "stdout",
          "text": [
            "[[1 2 3 4]\n",
            " [5 6 7 8]]\n",
            "[[1 2]\n",
            " [3 4]\n",
            " [5 6]\n",
            " [7 8]]\n"
          ]
        }
      ]
    },
    {
      "cell_type": "code",
      "source": [
        "# Vertically stacking vectors\n",
        "v1 = np.array([1, 2, 3, 4])\n",
        "v2 = np.array([5, 6, 7, 8])\n",
        "\n",
        "np.vstack([v1, v2, v1, v2])"
      ],
      "metadata": {
        "colab": {
          "base_uri": "https://localhost:8080/"
        },
        "id": "Yt4ac8L_v-ak",
        "outputId": "bc03bc60-6c4c-4ac9-ed46-f7ed2b46499d"
      },
      "execution_count": null,
      "outputs": [
        {
          "output_type": "execute_result",
          "data": {
            "text/plain": [
              "array([[1, 2, 3, 4],\n",
              "       [5, 6, 7, 8],\n",
              "       [1, 2, 3, 4],\n",
              "       [5, 6, 7, 8]])"
            ]
          },
          "metadata": {},
          "execution_count": 196
        }
      ]
    },
    {
      "cell_type": "code",
      "source": [
        "# Horizontal Stack\n",
        "h1 = np.ones([2, 4])\n",
        "h2 = np.zeros([2, 2])\n",
        "\n",
        "np.hstack((h1, h2))"
      ],
      "metadata": {
        "colab": {
          "base_uri": "https://localhost:8080/"
        },
        "id": "yrJSknx_zgtC",
        "outputId": "95bffd30-ebb3-45ab-96ae-fe364bb831ae"
      },
      "execution_count": null,
      "outputs": [
        {
          "output_type": "execute_result",
          "data": {
            "text/plain": [
              "array([[1., 1., 1., 1., 0., 0.],\n",
              "       [1., 1., 1., 1., 0., 0.]])"
            ]
          },
          "metadata": {},
          "execution_count": 197
        }
      ]
    },
    {
      "cell_type": "code",
      "source": [
        "a = np.ones((2, 4))\n",
        "b = a.reshape((4, 2))\n",
        "print(b)"
      ],
      "metadata": {
        "colab": {
          "base_uri": "https://localhost:8080/"
        },
        "id": "ihhRWc7I0qm9",
        "outputId": "34aa2ed6-ff76-4b51-f28b-7bde4e37a263"
      },
      "execution_count": null,
      "outputs": [
        {
          "output_type": "stream",
          "name": "stdout",
          "text": [
            "[[1. 1.]\n",
            " [1. 1.]\n",
            " [1. 1.]\n",
            " [1. 1.]]\n"
          ]
        }
      ]
    },
    {
      "cell_type": "code",
      "source": [
        "a = np.ones((2, 4))\n",
        "b = a.reshape((2, 4))\n",
        "print(b)"
      ],
      "metadata": {
        "colab": {
          "base_uri": "https://localhost:8080/"
        },
        "id": "AqdvHcBX1GKh",
        "outputId": "31e7f37f-5e3b-4762-cefa-ba6912b0ab6e"
      },
      "execution_count": null,
      "outputs": [
        {
          "output_type": "stream",
          "name": "stdout",
          "text": [
            "[[1. 1. 1. 1.]\n",
            " [1. 1. 1. 1.]]\n"
          ]
        }
      ]
    },
    {
      "cell_type": "code",
      "source": [
        "a = np.ones((2, 4))\n",
        "b = a.reshape((8, 1))\n",
        "print(b)"
      ],
      "metadata": {
        "colab": {
          "base_uri": "https://localhost:8080/"
        },
        "id": "ikTUPaDc1QLQ",
        "outputId": "ebda7687-d480-4037-8252-40cdbfd080ef"
      },
      "execution_count": null,
      "outputs": [
        {
          "output_type": "stream",
          "name": "stdout",
          "text": [
            "[[1.]\n",
            " [1.]\n",
            " [1.]\n",
            " [1.]\n",
            " [1.]\n",
            " [1.]\n",
            " [1.]\n",
            " [1.]]\n"
          ]
        }
      ]
    },
    {
      "cell_type": "markdown",
      "source": [
        "### Miscellaneous"
      ],
      "metadata": {
        "id": "iScgK2T71sjN"
      }
    },
    {
      "cell_type": "code",
      "source": [
        "# Load Data from file\n",
        "filedata = np.genfromtxt('data.txt')\n",
        "filedata.astype('int32')\n",
        "filedata"
      ],
      "metadata": {
        "colab": {
          "base_uri": "https://localhost:8080/"
        },
        "id": "fd2UWdZX1TMl",
        "outputId": "9a8d5aa3-0239-4808-b60e-012571b9c965"
      },
      "execution_count": null,
      "outputs": [
        {
          "output_type": "execute_result",
          "data": {
            "text/plain": [
              "array([ 11.,  12.,  13.,  14.,  15.,  16.,  17.,  18.,  19.,  20.,  55.,\n",
              "        66.,  77.,  88.,  99.,  33.,  44.,  22.,  77.,  61.,  72.,  83.,\n",
              "        94., 123., 222., 345., 678., 999., 321., 654., 761.])"
            ]
          },
          "metadata": {},
          "execution_count": 201
        }
      ]
    },
    {
      "cell_type": "code",
      "source": [
        "# Boolean masking and advanced indexing\n",
        "filedata > 50\n"
      ],
      "metadata": {
        "colab": {
          "base_uri": "https://localhost:8080/"
        },
        "id": "tvrGrCdU4SWO",
        "outputId": "914f4727-96cf-4736-b96b-19abf785e3b9"
      },
      "execution_count": null,
      "outputs": [
        {
          "output_type": "execute_result",
          "data": {
            "text/plain": [
              "array([False, False, False, False, False, False, False, False, False,\n",
              "       False,  True,  True,  True,  True,  True, False, False, False,\n",
              "        True,  True,  True,  True,  True,  True,  True,  True,  True,\n",
              "        True,  True,  True,  True])"
            ]
          },
          "metadata": {},
          "execution_count": 202
        }
      ]
    },
    {
      "cell_type": "code",
      "source": [
        "filedata[filedata > 50]"
      ],
      "metadata": {
        "colab": {
          "base_uri": "https://localhost:8080/"
        },
        "id": "hZ2t8Mke6EFj",
        "outputId": "e5641a50-8e6b-44fa-9cb6-5d5dd0ca3959"
      },
      "execution_count": null,
      "outputs": [
        {
          "output_type": "execute_result",
          "data": {
            "text/plain": [
              "array([ 55.,  66.,  77.,  88.,  99.,  77.,  61.,  72.,  83.,  94., 123.,\n",
              "       222., 345., 678., 999., 321., 654., 761.])"
            ]
          },
          "metadata": {},
          "execution_count": 203
        }
      ]
    },
    {
      "cell_type": "code",
      "source": [
        "np.any(filedata > 50, axis=0)"
      ],
      "metadata": {
        "colab": {
          "base_uri": "https://localhost:8080/"
        },
        "id": "z78zjFQR73Tn",
        "outputId": "b1c68c8c-d023-4f7e-9bbc-56e25aee9759"
      },
      "execution_count": null,
      "outputs": [
        {
          "output_type": "execute_result",
          "data": {
            "text/plain": [
              "np.True_"
            ]
          },
          "metadata": {},
          "execution_count": 204
        }
      ]
    },
    {
      "cell_type": "code",
      "source": [
        "np.all(filedata > 50, axis=0)"
      ],
      "metadata": {
        "colab": {
          "base_uri": "https://localhost:8080/"
        },
        "id": "H_vfIDnC8NUb",
        "outputId": "66c7d8ae-b40f-4a32-d00e-c7afbbbc66ce"
      },
      "execution_count": null,
      "outputs": [
        {
          "output_type": "execute_result",
          "data": {
            "text/plain": [
              "np.False_"
            ]
          },
          "metadata": {},
          "execution_count": 208
        }
      ]
    },
    {
      "cell_type": "code",
      "source": [
        "# we can index with a list in Numpy\n",
        "a = np.array([1, 2, 3, 4, 5, 6, 7, 8, 9])\n",
        "a[[1, 2, 8]]"
      ],
      "metadata": {
        "colab": {
          "base_uri": "https://localhost:8080/"
        },
        "id": "MkzwYJTJ6TTN",
        "outputId": "848fe93d-1d16-4f84-a021-2e312a2c874a"
      },
      "execution_count": null,
      "outputs": [
        {
          "output_type": "execute_result",
          "data": {
            "text/plain": [
              "array([2, 3, 9])"
            ]
          },
          "metadata": {},
          "execution_count": 206
        }
      ]
    },
    {
      "cell_type": "code",
      "source": [
        "(~((filedata > 50) & (filedata < 100)))"
      ],
      "metadata": {
        "colab": {
          "base_uri": "https://localhost:8080/"
        },
        "id": "QjkPE_Gy7ga5",
        "outputId": "19270411-fe2b-4b10-ce3d-f3b6533fa30a"
      },
      "execution_count": null,
      "outputs": [
        {
          "output_type": "execute_result",
          "data": {
            "text/plain": [
              "array([ True,  True,  True,  True,  True,  True,  True,  True,  True,\n",
              "        True, False, False, False, False, False,  True,  True,  True,\n",
              "       False, False, False, False, False,  True,  True,  True,  True,\n",
              "        True,  True,  True,  True])"
            ]
          },
          "metadata": {},
          "execution_count": 211
        }
      ]
    }
  ]
}